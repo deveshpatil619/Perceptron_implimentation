{
 "cells": [
  {
   "cell_type": "code",
   "execution_count": 3,
   "id": "df0fdcee",
   "metadata": {},
   "outputs": [],
   "source": [
    "import os\n",
    "import matplotlib.pyplot as plt\n",
    "import joblib\n",
    "import numpy as np\n",
    "import pandas as pd\n",
    "\n",
    "plt.style.use(\"fivethirtyeight\")"
   ]
  },
  {
   "cell_type": "code",
   "execution_count": 2,
   "id": "2bc8ad8c",
   "metadata": {},
   "outputs": [
    {
     "name": "stdout",
     "output_type": "stream",
     "text": [
      "Collecting joblib\n",
      "  Using cached joblib-1.2.0-py3-none-any.whl (297 kB)\n",
      "Installing collected packages: joblib\n",
      "Successfully installed joblib-1.2.0\n"
     ]
    }
   ],
   "source": [
    "!pip install joblib"
   ]
  },
  {
   "cell_type": "code",
   "execution_count": 4,
   "id": "73f8ccfa",
   "metadata": {},
   "outputs": [
    {
     "data": {
      "text/plain": [
       "array([-1.04837876,  0.55155489, -0.92592346])"
      ]
     },
     "execution_count": 4,
     "metadata": {},
     "output_type": "execute_result"
    }
   ],
   "source": [
    "np.random.randn(3)"
   ]
  },
  {
   "cell_type": "code",
   "execution_count": 5,
   "id": "4e2b8f3d",
   "metadata": {},
   "outputs": [
    {
     "data": {
      "text/plain": [
       "0.0001"
      ]
     },
     "execution_count": 5,
     "metadata": {},
     "output_type": "execute_result"
    }
   ],
   "source": [
    "1e-4"
   ]
  },
  {
   "cell_type": "code",
   "execution_count": 6,
   "id": "6bec4933",
   "metadata": {},
   "outputs": [],
   "source": [
    "X = -np.ones((4,2))"
   ]
  },
  {
   "cell_type": "code",
   "execution_count": 16,
   "id": "c77602ca",
   "metadata": {},
   "outputs": [
    {
     "data": {
      "text/html": [
       "<div>\n",
       "<style scoped>\n",
       "    .dataframe tbody tr th:only-of-type {\n",
       "        vertical-align: middle;\n",
       "    }\n",
       "\n",
       "    .dataframe tbody tr th {\n",
       "        vertical-align: top;\n",
       "    }\n",
       "\n",
       "    .dataframe thead th {\n",
       "        text-align: right;\n",
       "    }\n",
       "</style>\n",
       "<table border=\"1\" class=\"dataframe\">\n",
       "  <thead>\n",
       "    <tr style=\"text-align: right;\">\n",
       "      <th></th>\n",
       "      <th>x1</th>\n",
       "      <th>x2</th>\n",
       "    </tr>\n",
       "  </thead>\n",
       "  <tbody>\n",
       "    <tr>\n",
       "      <th>0</th>\n",
       "      <td>0</td>\n",
       "      <td>0</td>\n",
       "    </tr>\n",
       "    <tr>\n",
       "      <th>1</th>\n",
       "      <td>0</td>\n",
       "      <td>1</td>\n",
       "    </tr>\n",
       "    <tr>\n",
       "      <th>2</th>\n",
       "      <td>1</td>\n",
       "      <td>0</td>\n",
       "    </tr>\n",
       "    <tr>\n",
       "      <th>3</th>\n",
       "      <td>1</td>\n",
       "      <td>1</td>\n",
       "    </tr>\n",
       "  </tbody>\n",
       "</table>\n",
       "</div>"
      ],
      "text/plain": [
       "   x1  x2\n",
       "0   0   0\n",
       "1   0   1\n",
       "2   1   0\n",
       "3   1   1"
      ]
     },
     "execution_count": 16,
     "metadata": {},
     "output_type": "execute_result"
    }
   ],
   "source": [
    "X"
   ]
  },
  {
   "cell_type": "code",
   "execution_count": 7,
   "id": "d81ea193",
   "metadata": {},
   "outputs": [
    {
     "data": {
      "text/plain": [
       "array([[-1., -1., -1.],\n",
       "       [-1., -1., -1.],\n",
       "       [-1., -1., -1.],\n",
       "       [-1., -1., -1.]])"
      ]
     },
     "execution_count": 7,
     "metadata": {},
     "output_type": "execute_result"
    }
   ],
   "source": [
    "np.c_[X, -np.ones((len(X),1))]"
   ]
  },
  {
   "cell_type": "code",
   "execution_count": 12,
   "id": "be551fb8",
   "metadata": {},
   "outputs": [],
   "source": [
    "class Perceptron:\n",
    "    def __init__(self, eta:float=None,epochs:int = None):  ##eta is the learning-rate\n",
    "        self.weights = np.random.randn(3) * 1e-4 #randn Returns a samples from the \"standard normal\" distribution. \n",
    "                                                 # weights should be minimal to reduce the weight updation\n",
    "        self.eta = eta ##\n",
    "        self.epochs =epochs ## iterations\n",
    "        \n",
    "    def _z_outcome(self,inputs,weights):\n",
    "        return np.dot(inputs,weights)  #multip,ication of weights and the input values\n",
    "    \n",
    "    def activation_function(self,z):\n",
    "        return np.where(z>0,1,0)\n",
    "        \n",
    "    def fit(self,X,y):\n",
    "        self.X= X\n",
    "        self.y = y\n",
    "        \n",
    "        X_with_bias = np.c_[self.X, -np.ones((len(self.X),1))]  ## bias weights multiplication\n",
    "        print(f\"X with bias:\\n{X_with_bias}\")\n",
    "        \n",
    "        \n",
    "        for epoch in range(self.epochs):\n",
    "            print(\"--\"*10)  # To seperate and print the outcomes\n",
    "            print(f\"for epochs>> {epoch+1}\") ## will print the no of epochs everytime\n",
    "            print(\"--\"*10)\n",
    "            \n",
    "            z = self._z_outcome(X_with_bias,self.weights) ## for activation function\n",
    "            y_hat = self.activation_function(z)   ## y_hat is our predicted output\n",
    "            print(f\"Predicted value after the forward pass: \\{y_hat}\")\n",
    "            \n",
    "            self.error = self.y - y_hat  ## for error between predicted and the actual values\n",
    "            print(f\"error:\\n{self.error}\")\n",
    "            \n",
    "            self.weights = self.weights + self.eta * np.dot(X_with_bias.T,self.error) ## weight updation\n",
    "            print(f\"updated weights after the epochs: {epoch + 1}/{self.epochs}:\\n{self.weights}\")\n",
    "            print(f\"##\"*10)\n",
    "            \n",
    "    def predict(self,X):\n",
    "        X_with_bias = np.c_[X, -np.ones((len(X),1))]\n",
    "        z = self._z_outcome(X_with_bias,self.weights)\n",
    "        return self.activation_function(z)\n",
    "    \n",
    "            \n",
    "            \n",
    "            \n",
    "        \n",
    "            "
   ]
  },
  {
   "cell_type": "code",
   "execution_count": 13,
   "id": "a4e4aa6c",
   "metadata": {},
   "outputs": [
    {
     "data": {
      "text/html": [
       "<div>\n",
       "<style scoped>\n",
       "    .dataframe tbody tr th:only-of-type {\n",
       "        vertical-align: middle;\n",
       "    }\n",
       "\n",
       "    .dataframe tbody tr th {\n",
       "        vertical-align: top;\n",
       "    }\n",
       "\n",
       "    .dataframe thead th {\n",
       "        text-align: right;\n",
       "    }\n",
       "</style>\n",
       "<table border=\"1\" class=\"dataframe\">\n",
       "  <thead>\n",
       "    <tr style=\"text-align: right;\">\n",
       "      <th></th>\n",
       "      <th>x1</th>\n",
       "      <th>x2</th>\n",
       "      <th>y</th>\n",
       "    </tr>\n",
       "  </thead>\n",
       "  <tbody>\n",
       "    <tr>\n",
       "      <th>0</th>\n",
       "      <td>0</td>\n",
       "      <td>0</td>\n",
       "      <td>0</td>\n",
       "    </tr>\n",
       "    <tr>\n",
       "      <th>1</th>\n",
       "      <td>0</td>\n",
       "      <td>1</td>\n",
       "      <td>1</td>\n",
       "    </tr>\n",
       "    <tr>\n",
       "      <th>2</th>\n",
       "      <td>1</td>\n",
       "      <td>0</td>\n",
       "      <td>1</td>\n",
       "    </tr>\n",
       "    <tr>\n",
       "      <th>3</th>\n",
       "      <td>1</td>\n",
       "      <td>1</td>\n",
       "      <td>1</td>\n",
       "    </tr>\n",
       "  </tbody>\n",
       "</table>\n",
       "</div>"
      ],
      "text/plain": [
       "   x1  x2  y\n",
       "0   0   0  0\n",
       "1   0   1  1\n",
       "2   1   0  1\n",
       "3   1   1  1"
      ]
     },
     "execution_count": 13,
     "metadata": {},
     "output_type": "execute_result"
    }
   ],
   "source": [
    "## This is OR Gate table\n",
    "\n",
    "OR = {\n",
    "    \"x1\" : [0,0,1,1],\n",
    "    \"x2\" : [0,1,0,1],\n",
    "    \"y\"  : [0,1,1,1]\n",
    "}\n",
    "\n",
    "df_OR = pd.DataFrame(OR)  ## putting into the dataframe\n",
    "df_OR\n",
    "\n",
    "\n",
    "\n"
   ]
  },
  {
   "cell_type": "code",
   "execution_count": 17,
   "id": "8e9b7215",
   "metadata": {},
   "outputs": [
    {
     "data": {
      "text/html": [
       "<div>\n",
       "<style scoped>\n",
       "    .dataframe tbody tr th:only-of-type {\n",
       "        vertical-align: middle;\n",
       "    }\n",
       "\n",
       "    .dataframe tbody tr th {\n",
       "        vertical-align: top;\n",
       "    }\n",
       "\n",
       "    .dataframe thead th {\n",
       "        text-align: right;\n",
       "    }\n",
       "</style>\n",
       "<table border=\"1\" class=\"dataframe\">\n",
       "  <thead>\n",
       "    <tr style=\"text-align: right;\">\n",
       "      <th></th>\n",
       "      <th>x1</th>\n",
       "      <th>x2</th>\n",
       "      <th>y</th>\n",
       "    </tr>\n",
       "  </thead>\n",
       "  <tbody>\n",
       "    <tr>\n",
       "      <th>0</th>\n",
       "      <td>0</td>\n",
       "      <td>0</td>\n",
       "      <td>0</td>\n",
       "    </tr>\n",
       "    <tr>\n",
       "      <th>1</th>\n",
       "      <td>0</td>\n",
       "      <td>1</td>\n",
       "      <td>0</td>\n",
       "    </tr>\n",
       "    <tr>\n",
       "      <th>2</th>\n",
       "      <td>1</td>\n",
       "      <td>0</td>\n",
       "      <td>0</td>\n",
       "    </tr>\n",
       "    <tr>\n",
       "      <th>3</th>\n",
       "      <td>1</td>\n",
       "      <td>1</td>\n",
       "      <td>1</td>\n",
       "    </tr>\n",
       "  </tbody>\n",
       "</table>\n",
       "</div>"
      ],
      "text/plain": [
       "   x1  x2  y\n",
       "0   0   0  0\n",
       "1   0   1  0\n",
       "2   1   0  0\n",
       "3   1   1  1"
      ]
     },
     "execution_count": 17,
     "metadata": {},
     "output_type": "execute_result"
    }
   ],
   "source": [
    "# This is AND Gate table\n",
    "\n",
    "AND = {\n",
    "    \"x1\" : [0,0,1,1],\n",
    "    \"x2\" : [0,1,0,1],\n",
    "    \"y\"  : [0,0,0,1]\n",
    "}\n",
    "\n",
    "df_AND = pd.DataFrame(AND)  ## putting into the Dataframe\n",
    "df_AND"
   ]
  },
  {
   "cell_type": "code",
   "execution_count": 35,
   "id": "fe1fcf4a",
   "metadata": {},
   "outputs": [
    {
     "data": {
      "text/html": [
       "<div>\n",
       "<style scoped>\n",
       "    .dataframe tbody tr th:only-of-type {\n",
       "        vertical-align: middle;\n",
       "    }\n",
       "\n",
       "    .dataframe tbody tr th {\n",
       "        vertical-align: top;\n",
       "    }\n",
       "\n",
       "    .dataframe thead th {\n",
       "        text-align: right;\n",
       "    }\n",
       "</style>\n",
       "<table border=\"1\" class=\"dataframe\">\n",
       "  <thead>\n",
       "    <tr style=\"text-align: right;\">\n",
       "      <th></th>\n",
       "      <th>x1</th>\n",
       "      <th>x2</th>\n",
       "      <th>y</th>\n",
       "    </tr>\n",
       "  </thead>\n",
       "  <tbody>\n",
       "    <tr>\n",
       "      <th>0</th>\n",
       "      <td>0</td>\n",
       "      <td>0</td>\n",
       "      <td>0</td>\n",
       "    </tr>\n",
       "    <tr>\n",
       "      <th>1</th>\n",
       "      <td>0</td>\n",
       "      <td>1</td>\n",
       "      <td>1</td>\n",
       "    </tr>\n",
       "    <tr>\n",
       "      <th>2</th>\n",
       "      <td>1</td>\n",
       "      <td>0</td>\n",
       "      <td>1</td>\n",
       "    </tr>\n",
       "    <tr>\n",
       "      <th>3</th>\n",
       "      <td>1</td>\n",
       "      <td>1</td>\n",
       "      <td>0</td>\n",
       "    </tr>\n",
       "  </tbody>\n",
       "</table>\n",
       "</div>"
      ],
      "text/plain": [
       "   x1  x2  y\n",
       "0   0   0  0\n",
       "1   0   1  1\n",
       "2   1   0  1\n",
       "3   1   1  0"
      ]
     },
     "execution_count": 35,
     "metadata": {},
     "output_type": "execute_result"
    }
   ],
   "source": [
    "# This is XOR Gate table\n",
    "\n",
    "XOR = {\n",
    "    \"x1\" : [0,0,1,1],\n",
    "    \"x2\" : [0,1,0,1],\n",
    "    \"y\"  : [0,1,1,0]\n",
    "}\n",
    "\n",
    "df_XOR = pd.DataFrame(XOR)  ## putting into the Dataframe\n",
    "df_XOR"
   ]
  },
  {
   "cell_type": "code",
   "execution_count": 56,
   "id": "b8e2e861",
   "metadata": {},
   "outputs": [
    {
     "data": {
      "text/html": [
       "<div>\n",
       "<style scoped>\n",
       "    .dataframe tbody tr th:only-of-type {\n",
       "        vertical-align: middle;\n",
       "    }\n",
       "\n",
       "    .dataframe tbody tr th {\n",
       "        vertical-align: top;\n",
       "    }\n",
       "\n",
       "    .dataframe thead th {\n",
       "        text-align: right;\n",
       "    }\n",
       "</style>\n",
       "<table border=\"1\" class=\"dataframe\">\n",
       "  <thead>\n",
       "    <tr style=\"text-align: right;\">\n",
       "      <th></th>\n",
       "      <th>x1</th>\n",
       "      <th>x2</th>\n",
       "      <th>y</th>\n",
       "    </tr>\n",
       "  </thead>\n",
       "  <tbody>\n",
       "    <tr>\n",
       "      <th>0</th>\n",
       "      <td>0</td>\n",
       "      <td>0</td>\n",
       "      <td>1</td>\n",
       "    </tr>\n",
       "    <tr>\n",
       "      <th>1</th>\n",
       "      <td>0</td>\n",
       "      <td>1</td>\n",
       "      <td>0</td>\n",
       "    </tr>\n",
       "    <tr>\n",
       "      <th>2</th>\n",
       "      <td>1</td>\n",
       "      <td>0</td>\n",
       "      <td>0</td>\n",
       "    </tr>\n",
       "    <tr>\n",
       "      <th>3</th>\n",
       "      <td>1</td>\n",
       "      <td>1</td>\n",
       "      <td>0</td>\n",
       "    </tr>\n",
       "  </tbody>\n",
       "</table>\n",
       "</div>"
      ],
      "text/plain": [
       "   x1  x2  y\n",
       "0   0   0  1\n",
       "1   0   1  0\n",
       "2   1   0  0\n",
       "3   1   1  0"
      ]
     },
     "execution_count": 56,
     "metadata": {},
     "output_type": "execute_result"
    }
   ],
   "source": [
    "# This is NAND Gate table\n",
    "\n",
    "NAND = {\n",
    "    \"x1\" : [0,0,1,1],\n",
    "    \"x2\" : [0,1,0,1],\n",
    "    \"y\"  : [1,0,0,0]\n",
    "}\n",
    "\n",
    "df_NAND = pd.DataFrame(NAND)  ## putting into the Dataframe\n",
    "df_NAND"
   ]
  },
  {
   "cell_type": "code",
   "execution_count": 36,
   "id": "6d41e58e",
   "metadata": {},
   "outputs": [],
   "source": [
    "def prepare_data(df, target_col = \"y\"):\n",
    "    X = df.drop(target_col, axis=1)\n",
    "    y = df[target_col]\n",
    "    \n",
    "    return X,y"
   ]
  },
  {
   "cell_type": "code",
   "execution_count": 37,
   "id": "0416f586",
   "metadata": {},
   "outputs": [
    {
     "name": "stdout",
     "output_type": "stream",
     "text": [
      "X with bias:\n",
      "[[ 0.  0. -1.]\n",
      " [ 0.  1. -1.]\n",
      " [ 1.  0. -1.]\n",
      " [ 1.  1. -1.]]\n",
      "--------------------\n",
      "for epochs>> 1\n",
      "--------------------\n",
      "Predicted value after the forward pass: \\[0 1 0 1]\n",
      "error:\n",
      "0    0\n",
      "1    0\n",
      "2    1\n",
      "3    0\n",
      "Name: y, dtype: int64\n",
      "updated weights after the epochs: 1/10:\n",
      "[ 0.10004091  0.0001363  -0.09987291]\n",
      "####################\n",
      "--------------------\n",
      "for epochs>> 2\n",
      "--------------------\n",
      "Predicted value after the forward pass: \\[1 1 1 1]\n",
      "error:\n",
      "0   -1\n",
      "1    0\n",
      "2    0\n",
      "3    0\n",
      "Name: y, dtype: int64\n",
      "updated weights after the epochs: 2/10:\n",
      "[0.10004091 0.0001363  0.00012709]\n",
      "####################\n",
      "--------------------\n",
      "for epochs>> 3\n",
      "--------------------\n",
      "Predicted value after the forward pass: \\[0 1 1 1]\n",
      "error:\n",
      "0    0\n",
      "1    0\n",
      "2    0\n",
      "3    0\n",
      "Name: y, dtype: int64\n",
      "updated weights after the epochs: 3/10:\n",
      "[0.10004091 0.0001363  0.00012709]\n",
      "####################\n",
      "--------------------\n",
      "for epochs>> 4\n",
      "--------------------\n",
      "Predicted value after the forward pass: \\[0 1 1 1]\n",
      "error:\n",
      "0    0\n",
      "1    0\n",
      "2    0\n",
      "3    0\n",
      "Name: y, dtype: int64\n",
      "updated weights after the epochs: 4/10:\n",
      "[0.10004091 0.0001363  0.00012709]\n",
      "####################\n",
      "--------------------\n",
      "for epochs>> 5\n",
      "--------------------\n",
      "Predicted value after the forward pass: \\[0 1 1 1]\n",
      "error:\n",
      "0    0\n",
      "1    0\n",
      "2    0\n",
      "3    0\n",
      "Name: y, dtype: int64\n",
      "updated weights after the epochs: 5/10:\n",
      "[0.10004091 0.0001363  0.00012709]\n",
      "####################\n",
      "--------------------\n",
      "for epochs>> 6\n",
      "--------------------\n",
      "Predicted value after the forward pass: \\[0 1 1 1]\n",
      "error:\n",
      "0    0\n",
      "1    0\n",
      "2    0\n",
      "3    0\n",
      "Name: y, dtype: int64\n",
      "updated weights after the epochs: 6/10:\n",
      "[0.10004091 0.0001363  0.00012709]\n",
      "####################\n",
      "--------------------\n",
      "for epochs>> 7\n",
      "--------------------\n",
      "Predicted value after the forward pass: \\[0 1 1 1]\n",
      "error:\n",
      "0    0\n",
      "1    0\n",
      "2    0\n",
      "3    0\n",
      "Name: y, dtype: int64\n",
      "updated weights after the epochs: 7/10:\n",
      "[0.10004091 0.0001363  0.00012709]\n",
      "####################\n",
      "--------------------\n",
      "for epochs>> 8\n",
      "--------------------\n",
      "Predicted value after the forward pass: \\[0 1 1 1]\n",
      "error:\n",
      "0    0\n",
      "1    0\n",
      "2    0\n",
      "3    0\n",
      "Name: y, dtype: int64\n",
      "updated weights after the epochs: 8/10:\n",
      "[0.10004091 0.0001363  0.00012709]\n",
      "####################\n",
      "--------------------\n",
      "for epochs>> 9\n",
      "--------------------\n",
      "Predicted value after the forward pass: \\[0 1 1 1]\n",
      "error:\n",
      "0    0\n",
      "1    0\n",
      "2    0\n",
      "3    0\n",
      "Name: y, dtype: int64\n",
      "updated weights after the epochs: 9/10:\n",
      "[0.10004091 0.0001363  0.00012709]\n",
      "####################\n",
      "--------------------\n",
      "for epochs>> 10\n",
      "--------------------\n",
      "Predicted value after the forward pass: \\[0 1 1 1]\n",
      "error:\n",
      "0    0\n",
      "1    0\n",
      "2    0\n",
      "3    0\n",
      "Name: y, dtype: int64\n",
      "updated weights after the epochs: 10/10:\n",
      "[0.10004091 0.0001363  0.00012709]\n",
      "####################\n"
     ]
    }
   ],
   "source": [
    "## Prediction for the OR Gate\n",
    "\n",
    "X,y = prepare_data(df_OR)\n",
    "\n",
    "ETA = 0.1\n",
    "EPOCHS = 10\n",
    "\n",
    "model_or = Perceptron(eta = ETA ,epochs=EPOCHS )\n",
    "\n",
    "## fitting the model\n",
    "model_or.fit(X,y)\n"
   ]
  },
  {
   "cell_type": "code",
   "execution_count": 38,
   "id": "850c0ed7",
   "metadata": {},
   "outputs": [
    {
     "data": {
      "text/plain": [
       "array([0, 1, 1, 1])"
      ]
     },
     "execution_count": 38,
     "metadata": {},
     "output_type": "execute_result"
    }
   ],
   "source": [
    "model_or.predict(X)"
   ]
  },
  {
   "cell_type": "code",
   "execution_count": 39,
   "id": "9302a6ae",
   "metadata": {},
   "outputs": [
    {
     "name": "stdout",
     "output_type": "stream",
     "text": [
      "X with bias:\n",
      "[[ 0.  0. -1.]\n",
      " [ 0.  1. -1.]\n",
      " [ 1.  0. -1.]\n",
      " [ 1.  1. -1.]]\n",
      "--------------------\n",
      "for epochs>> 1\n",
      "--------------------\n",
      "Predicted value after the forward pass: \\[0 0 0 0]\n",
      "error:\n",
      "0    0\n",
      "1    0\n",
      "2    0\n",
      "3    1\n",
      "Name: y, dtype: int64\n",
      "updated weights after the epochs: 1/10:\n",
      "[ 0.09999113  0.09992424 -0.09999315]\n",
      "####################\n",
      "--------------------\n",
      "for epochs>> 2\n",
      "--------------------\n",
      "Predicted value after the forward pass: \\[1 1 1 1]\n",
      "error:\n",
      "0   -1\n",
      "1   -1\n",
      "2   -1\n",
      "3    0\n",
      "Name: y, dtype: int64\n",
      "updated weights after the epochs: 2/10:\n",
      "[-8.86677672e-06 -7.57551783e-05  2.00006848e-01]\n",
      "####################\n",
      "--------------------\n",
      "for epochs>> 3\n",
      "--------------------\n",
      "Predicted value after the forward pass: \\[0 0 0 0]\n",
      "error:\n",
      "0    0\n",
      "1    0\n",
      "2    0\n",
      "3    1\n",
      "Name: y, dtype: int64\n",
      "updated weights after the epochs: 3/10:\n",
      "[0.09999113 0.09992424 0.10000685]\n",
      "####################\n",
      "--------------------\n",
      "for epochs>> 4\n",
      "--------------------\n",
      "Predicted value after the forward pass: \\[0 0 0 1]\n",
      "error:\n",
      "0    0\n",
      "1    0\n",
      "2    0\n",
      "3    0\n",
      "Name: y, dtype: int64\n",
      "updated weights after the epochs: 4/10:\n",
      "[0.09999113 0.09992424 0.10000685]\n",
      "####################\n",
      "--------------------\n",
      "for epochs>> 5\n",
      "--------------------\n",
      "Predicted value after the forward pass: \\[0 0 0 1]\n",
      "error:\n",
      "0    0\n",
      "1    0\n",
      "2    0\n",
      "3    0\n",
      "Name: y, dtype: int64\n",
      "updated weights after the epochs: 5/10:\n",
      "[0.09999113 0.09992424 0.10000685]\n",
      "####################\n",
      "--------------------\n",
      "for epochs>> 6\n",
      "--------------------\n",
      "Predicted value after the forward pass: \\[0 0 0 1]\n",
      "error:\n",
      "0    0\n",
      "1    0\n",
      "2    0\n",
      "3    0\n",
      "Name: y, dtype: int64\n",
      "updated weights after the epochs: 6/10:\n",
      "[0.09999113 0.09992424 0.10000685]\n",
      "####################\n",
      "--------------------\n",
      "for epochs>> 7\n",
      "--------------------\n",
      "Predicted value after the forward pass: \\[0 0 0 1]\n",
      "error:\n",
      "0    0\n",
      "1    0\n",
      "2    0\n",
      "3    0\n",
      "Name: y, dtype: int64\n",
      "updated weights after the epochs: 7/10:\n",
      "[0.09999113 0.09992424 0.10000685]\n",
      "####################\n",
      "--------------------\n",
      "for epochs>> 8\n",
      "--------------------\n",
      "Predicted value after the forward pass: \\[0 0 0 1]\n",
      "error:\n",
      "0    0\n",
      "1    0\n",
      "2    0\n",
      "3    0\n",
      "Name: y, dtype: int64\n",
      "updated weights after the epochs: 8/10:\n",
      "[0.09999113 0.09992424 0.10000685]\n",
      "####################\n",
      "--------------------\n",
      "for epochs>> 9\n",
      "--------------------\n",
      "Predicted value after the forward pass: \\[0 0 0 1]\n",
      "error:\n",
      "0    0\n",
      "1    0\n",
      "2    0\n",
      "3    0\n",
      "Name: y, dtype: int64\n",
      "updated weights after the epochs: 9/10:\n",
      "[0.09999113 0.09992424 0.10000685]\n",
      "####################\n",
      "--------------------\n",
      "for epochs>> 10\n",
      "--------------------\n",
      "Predicted value after the forward pass: \\[0 0 0 1]\n",
      "error:\n",
      "0    0\n",
      "1    0\n",
      "2    0\n",
      "3    0\n",
      "Name: y, dtype: int64\n",
      "updated weights after the epochs: 10/10:\n",
      "[0.09999113 0.09992424 0.10000685]\n",
      "####################\n"
     ]
    }
   ],
   "source": [
    "## Prediction for the AND Gate\n",
    "\n",
    "X,y = prepare_data(df_AND)\n",
    "\n",
    "ETA = 0.1\n",
    "EPOCHS = 10\n",
    "\n",
    "model_and = Perceptron(eta = ETA ,epochs=EPOCHS )\n",
    "\n",
    "## fitting the model\n",
    "model_and.fit(X,y)\n"
   ]
  },
  {
   "cell_type": "code",
   "execution_count": 40,
   "id": "93073ae9",
   "metadata": {},
   "outputs": [
    {
     "data": {
      "text/plain": [
       "array([0, 0, 0, 1])"
      ]
     },
     "execution_count": 40,
     "metadata": {},
     "output_type": "execute_result"
    }
   ],
   "source": [
    "model_and.predict(X)"
   ]
  },
  {
   "cell_type": "code",
   "execution_count": 44,
   "id": "15c1540f",
   "metadata": {},
   "outputs": [
    {
     "name": "stdout",
     "output_type": "stream",
     "text": [
      "X with bias:\n",
      "[[ 0.  0. -1.]\n",
      " [ 0.  1. -1.]\n",
      " [ 1.  0. -1.]\n",
      " [ 1.  1. -1.]]\n",
      "--------------------\n",
      "for epochs>> 1\n",
      "--------------------\n",
      "Predicted value after the forward pass: \\[0 0 0 0]\n",
      "error:\n",
      "0    0\n",
      "1    1\n",
      "2    1\n",
      "3    0\n",
      "Name: y, dtype: int64\n",
      "updated weights after the epochs: 1/10:\n",
      "[ 0.09996758  0.10007235 -0.19987897]\n",
      "####################\n",
      "--------------------\n",
      "for epochs>> 2\n",
      "--------------------\n",
      "Predicted value after the forward pass: \\[1 1 1 1]\n",
      "error:\n",
      "0   -1\n",
      "1    0\n",
      "2    0\n",
      "3   -1\n",
      "Name: y, dtype: int64\n",
      "updated weights after the epochs: 2/10:\n",
      "[-3.24245483e-05  7.23527487e-05  1.21027061e-04]\n",
      "####################\n",
      "--------------------\n",
      "for epochs>> 3\n",
      "--------------------\n",
      "Predicted value after the forward pass: \\[0 0 0 0]\n",
      "error:\n",
      "0    0\n",
      "1    1\n",
      "2    1\n",
      "3    0\n",
      "Name: y, dtype: int64\n",
      "updated weights after the epochs: 3/10:\n",
      "[ 0.09996758  0.10007235 -0.19987897]\n",
      "####################\n",
      "--------------------\n",
      "for epochs>> 4\n",
      "--------------------\n",
      "Predicted value after the forward pass: \\[1 1 1 1]\n",
      "error:\n",
      "0   -1\n",
      "1    0\n",
      "2    0\n",
      "3   -1\n",
      "Name: y, dtype: int64\n",
      "updated weights after the epochs: 4/10:\n",
      "[-3.24245483e-05  7.23527487e-05  1.21027061e-04]\n",
      "####################\n",
      "--------------------\n",
      "for epochs>> 5\n",
      "--------------------\n",
      "Predicted value after the forward pass: \\[0 0 0 0]\n",
      "error:\n",
      "0    0\n",
      "1    1\n",
      "2    1\n",
      "3    0\n",
      "Name: y, dtype: int64\n",
      "updated weights after the epochs: 5/10:\n",
      "[ 0.09996758  0.10007235 -0.19987897]\n",
      "####################\n",
      "--------------------\n",
      "for epochs>> 6\n",
      "--------------------\n",
      "Predicted value after the forward pass: \\[1 1 1 1]\n",
      "error:\n",
      "0   -1\n",
      "1    0\n",
      "2    0\n",
      "3   -1\n",
      "Name: y, dtype: int64\n",
      "updated weights after the epochs: 6/10:\n",
      "[-3.24245483e-05  7.23527487e-05  1.21027061e-04]\n",
      "####################\n",
      "--------------------\n",
      "for epochs>> 7\n",
      "--------------------\n",
      "Predicted value after the forward pass: \\[0 0 0 0]\n",
      "error:\n",
      "0    0\n",
      "1    1\n",
      "2    1\n",
      "3    0\n",
      "Name: y, dtype: int64\n",
      "updated weights after the epochs: 7/10:\n",
      "[ 0.09996758  0.10007235 -0.19987897]\n",
      "####################\n",
      "--------------------\n",
      "for epochs>> 8\n",
      "--------------------\n",
      "Predicted value after the forward pass: \\[1 1 1 1]\n",
      "error:\n",
      "0   -1\n",
      "1    0\n",
      "2    0\n",
      "3   -1\n",
      "Name: y, dtype: int64\n",
      "updated weights after the epochs: 8/10:\n",
      "[-3.24245483e-05  7.23527487e-05  1.21027061e-04]\n",
      "####################\n",
      "--------------------\n",
      "for epochs>> 9\n",
      "--------------------\n",
      "Predicted value after the forward pass: \\[0 0 0 0]\n",
      "error:\n",
      "0    0\n",
      "1    1\n",
      "2    1\n",
      "3    0\n",
      "Name: y, dtype: int64\n",
      "updated weights after the epochs: 9/10:\n",
      "[ 0.09996758  0.10007235 -0.19987897]\n",
      "####################\n",
      "--------------------\n",
      "for epochs>> 10\n",
      "--------------------\n",
      "Predicted value after the forward pass: \\[1 1 1 1]\n",
      "error:\n",
      "0   -1\n",
      "1    0\n",
      "2    0\n",
      "3   -1\n",
      "Name: y, dtype: int64\n",
      "updated weights after the epochs: 10/10:\n",
      "[-3.24245483e-05  7.23527487e-05  1.21027061e-04]\n",
      "####################\n"
     ]
    }
   ],
   "source": [
    "## Prediction for the XOR Gate\n",
    "\n",
    "X,y = prepare_data(df_XOR)\n",
    "\n",
    "ETA = 0.1\n",
    "EPOCHS = 10\n",
    "\n",
    "model_xor = Perceptron(eta = ETA ,epochs=EPOCHS )\n",
    "\n",
    "## fitting the model\n",
    "model_xor.fit(X,y)\n"
   ]
  },
  {
   "cell_type": "code",
   "execution_count": 59,
   "id": "277dcc01",
   "metadata": {},
   "outputs": [],
   "source": [
    "### Perceptron is only sutaible for linearly seperable datasets.(OR,AND,NAND)\n",
    "\n",
    "## So for XOR gate it will predict wrong output for any number of epochs as they are not linearly seperable"
   ]
  },
  {
   "cell_type": "code",
   "execution_count": 60,
   "id": "65022ea2",
   "metadata": {},
   "outputs": [
    {
     "data": {
      "text/plain": [
       "array([0, 0, 0, 0])"
      ]
     },
     "execution_count": 60,
     "metadata": {},
     "output_type": "execute_result"
    }
   ],
   "source": [
    "model_xor.predict(X)  ## It will predict wrong answer"
   ]
  },
  {
   "cell_type": "code",
   "execution_count": 57,
   "id": "4e818fea",
   "metadata": {},
   "outputs": [
    {
     "name": "stdout",
     "output_type": "stream",
     "text": [
      "X with bias:\n",
      "[[ 0.  0. -1.]\n",
      " [ 0.  1. -1.]\n",
      " [ 1.  0. -1.]\n",
      " [ 1.  1. -1.]]\n",
      "--------------------\n",
      "for epochs>> 1\n",
      "--------------------\n",
      "Predicted value after the forward pass: \\[1 1 1 1]\n",
      "error:\n",
      "0    0\n",
      "1   -1\n",
      "2   -1\n",
      "3   -1\n",
      "Name: y, dtype: int64\n",
      "updated weights after the epochs: 1/10:\n",
      "[-0.20012137 -0.1999932   0.29984009]\n",
      "####################\n",
      "--------------------\n",
      "for epochs>> 2\n",
      "--------------------\n",
      "Predicted value after the forward pass: \\[0 0 0 0]\n",
      "error:\n",
      "0    1\n",
      "1    0\n",
      "2    0\n",
      "3    0\n",
      "Name: y, dtype: int64\n",
      "updated weights after the epochs: 2/10:\n",
      "[-0.20012137 -0.1999932   0.19984009]\n",
      "####################\n",
      "--------------------\n",
      "for epochs>> 3\n",
      "--------------------\n",
      "Predicted value after the forward pass: \\[0 0 0 0]\n",
      "error:\n",
      "0    1\n",
      "1    0\n",
      "2    0\n",
      "3    0\n",
      "Name: y, dtype: int64\n",
      "updated weights after the epochs: 3/10:\n",
      "[-0.20012137 -0.1999932   0.09984009]\n",
      "####################\n",
      "--------------------\n",
      "for epochs>> 4\n",
      "--------------------\n",
      "Predicted value after the forward pass: \\[0 0 0 0]\n",
      "error:\n",
      "0    1\n",
      "1    0\n",
      "2    0\n",
      "3    0\n",
      "Name: y, dtype: int64\n",
      "updated weights after the epochs: 4/10:\n",
      "[-2.00121367e-01 -1.99993201e-01 -1.59906110e-04]\n",
      "####################\n",
      "--------------------\n",
      "for epochs>> 5\n",
      "--------------------\n",
      "Predicted value after the forward pass: \\[1 0 0 0]\n",
      "error:\n",
      "0    0\n",
      "1    0\n",
      "2    0\n",
      "3    0\n",
      "Name: y, dtype: int64\n",
      "updated weights after the epochs: 5/10:\n",
      "[-2.00121367e-01 -1.99993201e-01 -1.59906110e-04]\n",
      "####################\n",
      "--------------------\n",
      "for epochs>> 6\n",
      "--------------------\n",
      "Predicted value after the forward pass: \\[1 0 0 0]\n",
      "error:\n",
      "0    0\n",
      "1    0\n",
      "2    0\n",
      "3    0\n",
      "Name: y, dtype: int64\n",
      "updated weights after the epochs: 6/10:\n",
      "[-2.00121367e-01 -1.99993201e-01 -1.59906110e-04]\n",
      "####################\n",
      "--------------------\n",
      "for epochs>> 7\n",
      "--------------------\n",
      "Predicted value after the forward pass: \\[1 0 0 0]\n",
      "error:\n",
      "0    0\n",
      "1    0\n",
      "2    0\n",
      "3    0\n",
      "Name: y, dtype: int64\n",
      "updated weights after the epochs: 7/10:\n",
      "[-2.00121367e-01 -1.99993201e-01 -1.59906110e-04]\n",
      "####################\n",
      "--------------------\n",
      "for epochs>> 8\n",
      "--------------------\n",
      "Predicted value after the forward pass: \\[1 0 0 0]\n",
      "error:\n",
      "0    0\n",
      "1    0\n",
      "2    0\n",
      "3    0\n",
      "Name: y, dtype: int64\n",
      "updated weights after the epochs: 8/10:\n",
      "[-2.00121367e-01 -1.99993201e-01 -1.59906110e-04]\n",
      "####################\n",
      "--------------------\n",
      "for epochs>> 9\n",
      "--------------------\n",
      "Predicted value after the forward pass: \\[1 0 0 0]\n",
      "error:\n",
      "0    0\n",
      "1    0\n",
      "2    0\n",
      "3    0\n",
      "Name: y, dtype: int64\n",
      "updated weights after the epochs: 9/10:\n",
      "[-2.00121367e-01 -1.99993201e-01 -1.59906110e-04]\n",
      "####################\n",
      "--------------------\n",
      "for epochs>> 10\n",
      "--------------------\n",
      "Predicted value after the forward pass: \\[1 0 0 0]\n",
      "error:\n",
      "0    0\n",
      "1    0\n",
      "2    0\n",
      "3    0\n",
      "Name: y, dtype: int64\n",
      "updated weights after the epochs: 10/10:\n",
      "[-2.00121367e-01 -1.99993201e-01 -1.59906110e-04]\n",
      "####################\n"
     ]
    }
   ],
   "source": [
    "## Prediction for the NAND Gate\n",
    "\n",
    "X,y = prepare_data(df_NAND)\n",
    "\n",
    "ETA = 0.1\n",
    "EPOCHS = 10\n",
    "\n",
    "model_nand = Perceptron(eta = ETA ,epochs=EPOCHS )\n",
    "\n",
    "## fitting the model\n",
    "model_nand.fit(X,y)"
   ]
  },
  {
   "cell_type": "code",
   "execution_count": 58,
   "id": "7a40b3da",
   "metadata": {},
   "outputs": [
    {
     "data": {
      "text/plain": [
       "array([1, 0, 0, 0])"
      ]
     },
     "execution_count": 58,
     "metadata": {},
     "output_type": "execute_result"
    }
   ],
   "source": [
    "model_nand.predict(X)"
   ]
  },
  {
   "cell_type": "code",
   "execution_count": 46,
   "id": "30fef487",
   "metadata": {},
   "outputs": [
    {
     "data": {
      "text/html": [
       "<div>\n",
       "<style scoped>\n",
       "    .dataframe tbody tr th:only-of-type {\n",
       "        vertical-align: middle;\n",
       "    }\n",
       "\n",
       "    .dataframe tbody tr th {\n",
       "        vertical-align: top;\n",
       "    }\n",
       "\n",
       "    .dataframe thead th {\n",
       "        text-align: right;\n",
       "    }\n",
       "</style>\n",
       "<table border=\"1\" class=\"dataframe\">\n",
       "  <thead>\n",
       "    <tr style=\"text-align: right;\">\n",
       "      <th></th>\n",
       "      <th>x1</th>\n",
       "      <th>x2</th>\n",
       "    </tr>\n",
       "  </thead>\n",
       "  <tbody>\n",
       "    <tr>\n",
       "      <th>0</th>\n",
       "      <td>0</td>\n",
       "      <td>0</td>\n",
       "    </tr>\n",
       "    <tr>\n",
       "      <th>1</th>\n",
       "      <td>0</td>\n",
       "      <td>1</td>\n",
       "    </tr>\n",
       "    <tr>\n",
       "      <th>2</th>\n",
       "      <td>1</td>\n",
       "      <td>0</td>\n",
       "    </tr>\n",
       "    <tr>\n",
       "      <th>3</th>\n",
       "      <td>1</td>\n",
       "      <td>1</td>\n",
       "    </tr>\n",
       "  </tbody>\n",
       "</table>\n",
       "</div>"
      ],
      "text/plain": [
       "   x1  x2\n",
       "0   0   0\n",
       "1   0   1\n",
       "2   1   0\n",
       "3   1   1"
      ]
     },
     "execution_count": 46,
     "metadata": {},
     "output_type": "execute_result"
    }
   ],
   "source": [
    "\n",
    "X"
   ]
  },
  {
   "cell_type": "code",
   "execution_count": null,
   "id": "40be0d5c",
   "metadata": {},
   "outputs": [],
   "source": []
  },
  {
   "cell_type": "code",
   "execution_count": 47,
   "id": "acf86201",
   "metadata": {},
   "outputs": [
    {
     "data": {
      "text/plain": [
       "0    0\n",
       "1    1\n",
       "2    1\n",
       "3    0\n",
       "Name: y, dtype: int64"
      ]
     },
     "execution_count": 47,
     "metadata": {},
     "output_type": "execute_result"
    }
   ],
   "source": [
    "y"
   ]
  },
  {
   "cell_type": "code",
   "execution_count": null,
   "id": "9480a3ac",
   "metadata": {},
   "outputs": [],
   "source": []
  },
  {
   "cell_type": "code",
   "execution_count": null,
   "id": "e0fcd729",
   "metadata": {},
   "outputs": [],
   "source": []
  },
  {
   "cell_type": "code",
   "execution_count": null,
   "id": "33223a47",
   "metadata": {},
   "outputs": [],
   "source": []
  },
  {
   "cell_type": "code",
   "execution_count": 48,
   "id": "27fae989",
   "metadata": {},
   "outputs": [],
   "source": [
    "obj  =Perceptron(eta=0.01,epochs=10)"
   ]
  },
  {
   "cell_type": "code",
   "execution_count": 49,
   "id": "6031b7e7",
   "metadata": {},
   "outputs": [
    {
     "data": {
      "text/plain": [
       "0.01"
      ]
     },
     "execution_count": 49,
     "metadata": {},
     "output_type": "execute_result"
    }
   ],
   "source": [
    "obj.eta"
   ]
  },
  {
   "cell_type": "code",
   "execution_count": 50,
   "id": "024275c8",
   "metadata": {},
   "outputs": [
    {
     "data": {
      "text/plain": [
       "10"
      ]
     },
     "execution_count": 50,
     "metadata": {},
     "output_type": "execute_result"
    }
   ],
   "source": [
    "obj.epochs"
   ]
  },
  {
   "cell_type": "code",
   "execution_count": 51,
   "id": "54ced50b",
   "metadata": {},
   "outputs": [
    {
     "data": {
      "text/plain": [
       "array([ 2.72488738e-05,  1.09102649e-04, -1.19291239e-04])"
      ]
     },
     "execution_count": 51,
     "metadata": {},
     "output_type": "execute_result"
    }
   ],
   "source": [
    "obj.weights\n"
   ]
  },
  {
   "cell_type": "code",
   "execution_count": 52,
   "id": "67ed28ed",
   "metadata": {},
   "outputs": [
    {
     "data": {
      "text/html": [
       "<div>\n",
       "<style scoped>\n",
       "    .dataframe tbody tr th:only-of-type {\n",
       "        vertical-align: middle;\n",
       "    }\n",
       "\n",
       "    .dataframe tbody tr th {\n",
       "        vertical-align: top;\n",
       "    }\n",
       "\n",
       "    .dataframe thead th {\n",
       "        text-align: right;\n",
       "    }\n",
       "</style>\n",
       "<table border=\"1\" class=\"dataframe\">\n",
       "  <thead>\n",
       "    <tr style=\"text-align: right;\">\n",
       "      <th></th>\n",
       "      <th>x1</th>\n",
       "      <th>x2</th>\n",
       "    </tr>\n",
       "  </thead>\n",
       "  <tbody>\n",
       "    <tr>\n",
       "      <th>0</th>\n",
       "      <td>0</td>\n",
       "      <td>0</td>\n",
       "    </tr>\n",
       "    <tr>\n",
       "      <th>1</th>\n",
       "      <td>0</td>\n",
       "      <td>1</td>\n",
       "    </tr>\n",
       "    <tr>\n",
       "      <th>2</th>\n",
       "      <td>1</td>\n",
       "      <td>0</td>\n",
       "    </tr>\n",
       "    <tr>\n",
       "      <th>3</th>\n",
       "      <td>1</td>\n",
       "      <td>1</td>\n",
       "    </tr>\n",
       "  </tbody>\n",
       "</table>\n",
       "</div>"
      ],
      "text/plain": [
       "   x1  x2\n",
       "0   0   0\n",
       "1   0   1\n",
       "2   1   0\n",
       "3   1   1"
      ]
     },
     "execution_count": 52,
     "metadata": {},
     "output_type": "execute_result"
    }
   ],
   "source": [
    "X"
   ]
  },
  {
   "cell_type": "code",
   "execution_count": 53,
   "id": "72496bcb",
   "metadata": {},
   "outputs": [
    {
     "data": {
      "text/plain": [
       "array([[1.],\n",
       "       [1.],\n",
       "       [1.],\n",
       "       [1.]])"
      ]
     },
     "execution_count": 53,
     "metadata": {},
     "output_type": "execute_result"
    }
   ],
   "source": [
    "y =np.ones((4,1))\n",
    "y"
   ]
  },
  {
   "cell_type": "code",
   "execution_count": 54,
   "id": "c39439ac",
   "metadata": {},
   "outputs": [
    {
     "name": "stdout",
     "output_type": "stream",
     "text": [
      "X with bias:\n",
      "[[ 0.  0. -1.]\n",
      " [ 0.  1. -1.]\n",
      " [ 1.  0. -1.]\n",
      " [ 1.  1. -1.]]\n",
      "--------------------\n",
      "for epochs>> 1\n",
      "--------------------\n",
      "Predicted value after the forward pass: \\[1 1 1 1]\n",
      "error:\n",
      "[[0. 0. 0. 0.]\n",
      " [0. 0. 0. 0.]\n",
      " [0. 0. 0. 0.]\n",
      " [0. 0. 0. 0.]]\n"
     ]
    },
    {
     "ename": "ValueError",
     "evalue": "operands could not be broadcast together with shapes (3,) (3,4) ",
     "output_type": "error",
     "traceback": [
      "\u001b[1;31m---------------------------------------------------------------------------\u001b[0m",
      "\u001b[1;31mValueError\u001b[0m                                Traceback (most recent call last)",
      "\u001b[1;32m~\\AppData\\Local\\Temp\\ipykernel_12352\\1309316948.py\u001b[0m in \u001b[0;36m<module>\u001b[1;34m\u001b[0m\n\u001b[1;32m----> 1\u001b[1;33m \u001b[0mobj\u001b[0m\u001b[1;33m.\u001b[0m\u001b[0mfit\u001b[0m\u001b[1;33m(\u001b[0m\u001b[0mX\u001b[0m\u001b[1;33m,\u001b[0m\u001b[0my\u001b[0m\u001b[1;33m)\u001b[0m\u001b[1;33m\u001b[0m\u001b[1;33m\u001b[0m\u001b[0m\n\u001b[0m",
      "\u001b[1;32m~\\AppData\\Local\\Temp\\ipykernel_12352\\3518013055.py\u001b[0m in \u001b[0;36mfit\u001b[1;34m(self, X, y)\u001b[0m\n\u001b[0;32m     32\u001b[0m             \u001b[0mprint\u001b[0m\u001b[1;33m(\u001b[0m\u001b[1;34mf\"error:\\n{self.error}\"\u001b[0m\u001b[1;33m)\u001b[0m\u001b[1;33m\u001b[0m\u001b[1;33m\u001b[0m\u001b[0m\n\u001b[0;32m     33\u001b[0m \u001b[1;33m\u001b[0m\u001b[0m\n\u001b[1;32m---> 34\u001b[1;33m             \u001b[0mself\u001b[0m\u001b[1;33m.\u001b[0m\u001b[0mweights\u001b[0m \u001b[1;33m=\u001b[0m \u001b[0mself\u001b[0m\u001b[1;33m.\u001b[0m\u001b[0mweights\u001b[0m \u001b[1;33m+\u001b[0m \u001b[0mself\u001b[0m\u001b[1;33m.\u001b[0m\u001b[0meta\u001b[0m \u001b[1;33m*\u001b[0m \u001b[0mnp\u001b[0m\u001b[1;33m.\u001b[0m\u001b[0mdot\u001b[0m\u001b[1;33m(\u001b[0m\u001b[0mX_with_bias\u001b[0m\u001b[1;33m.\u001b[0m\u001b[0mT\u001b[0m\u001b[1;33m,\u001b[0m\u001b[0mself\u001b[0m\u001b[1;33m.\u001b[0m\u001b[0merror\u001b[0m\u001b[1;33m)\u001b[0m \u001b[1;31m## weight updation\u001b[0m\u001b[1;33m\u001b[0m\u001b[1;33m\u001b[0m\u001b[0m\n\u001b[0m\u001b[0;32m     35\u001b[0m             \u001b[0mprint\u001b[0m\u001b[1;33m(\u001b[0m\u001b[1;34mf\"updated weights after the epochs: {epoch + 1}/{self.epochs}:\\n{self.weights}\"\u001b[0m\u001b[1;33m)\u001b[0m\u001b[1;33m\u001b[0m\u001b[1;33m\u001b[0m\u001b[0m\n\u001b[0;32m     36\u001b[0m             \u001b[0mprint\u001b[0m\u001b[1;33m(\u001b[0m\u001b[1;34mf\"##\"\u001b[0m\u001b[1;33m*\u001b[0m\u001b[1;36m10\u001b[0m\u001b[1;33m)\u001b[0m\u001b[1;33m\u001b[0m\u001b[1;33m\u001b[0m\u001b[0m\n",
      "\u001b[1;31mValueError\u001b[0m: operands could not be broadcast together with shapes (3,) (3,4) "
     ]
    }
   ],
   "source": [
    "obj.fit(X,y)"
   ]
  },
  {
   "cell_type": "code",
   "execution_count": null,
   "id": "67fc8a18",
   "metadata": {},
   "outputs": [],
   "source": []
  },
  {
   "cell_type": "code",
   "execution_count": null,
   "id": "29cb4c38",
   "metadata": {},
   "outputs": [],
   "source": [
    "z=-23\n",
    "np.where(z>0,1,0)"
   ]
  },
  {
   "cell_type": "code",
   "execution_count": null,
   "id": "bebd1627",
   "metadata": {},
   "outputs": [],
   "source": []
  },
  {
   "cell_type": "code",
   "execution_count": null,
   "id": "a1a5ec17",
   "metadata": {},
   "outputs": [],
   "source": []
  },
  {
   "cell_type": "code",
   "execution_count": null,
   "id": "be013393",
   "metadata": {},
   "outputs": [],
   "source": [
    "\n"
   ]
  },
  {
   "cell_type": "code",
   "execution_count": null,
   "id": "bfdda15e",
   "metadata": {},
   "outputs": [],
   "source": []
  },
  {
   "cell_type": "code",
   "execution_count": null,
   "id": "78d79afb",
   "metadata": {},
   "outputs": [],
   "source": []
  },
  {
   "cell_type": "code",
   "execution_count": null,
   "id": "893ec128",
   "metadata": {},
   "outputs": [],
   "source": []
  },
  {
   "cell_type": "code",
   "execution_count": null,
   "id": "07a128b7",
   "metadata": {},
   "outputs": [],
   "source": []
  },
  {
   "cell_type": "code",
   "execution_count": null,
   "id": "40c2a585",
   "metadata": {},
   "outputs": [],
   "source": [
    "\n",
    "\n"
   ]
  },
  {
   "cell_type": "code",
   "execution_count": null,
   "id": "0c5a6c5d",
   "metadata": {},
   "outputs": [],
   "source": [
    "\n"
   ]
  }
 ],
 "metadata": {
  "kernelspec": {
   "display_name": "Python 3 (ipykernel)",
   "language": "python",
   "name": "python3"
  },
  "language_info": {
   "codemirror_mode": {
    "name": "ipython",
    "version": 3
   },
   "file_extension": ".py",
   "mimetype": "text/x-python",
   "name": "python",
   "nbconvert_exporter": "python",
   "pygments_lexer": "ipython3",
   "version": "3.7.13"
  }
 },
 "nbformat": 4,
 "nbformat_minor": 5
}
